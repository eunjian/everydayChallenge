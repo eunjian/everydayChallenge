{
 "cells": [
  {
   "cell_type": "markdown",
   "id": "starting-vancouver",
   "metadata": {},
   "source": [
    "# 1RM Estimation Calculator\n",
    "\n",
    "This program calculates the One Repetition Maximum (1RM) for strength training exercises based on the weight lifted and the number of repetitions performed. The 1RM is an essential metric for designing effective workout routines. This calculator uses a specific formula to estimate the 1RM from the given input.\n",
    "\n",
    "## Formula\n",
    "\n",
    "The 1RM is calculated using the following formula:\n",
    "\n",
    "$$1RM = W \\times (1 + \\frac{R}{30})$$\n",
    "\n",
    "\n",
    "Where:\n",
    "- $1RM$ is the estimated One Repetition Maximum.\n",
    "- $W$ is the weight lifted for a single repetition.\n",
    "- $R$ is the number of repetitions performed.\n",
    "\n",
    "## Input\n",
    "\n",
    "The input consists of two integers separated by a space:\n",
    "\n",
    "- $W:$ The weight lifted $(1 \\leq W \\leq 1,000,000)$\n",
    "- $R:$ The number of repetitions $(1 \\leq R \\leq 100)$\n",
    "\n",
    "## Output\n",
    "\n",
    "The output is the calculated 1RM after discarding the decimal part.\n",
    "\n",
    "## Usage\n",
    "\n",
    "1. Input the weight lifted (`W`) and the number of repetitions (`R`).\n",
    "2. Run the program.\n",
    "3. The calculated 1RM will be displayed as output.\n",
    "\n",
    "\n",
    "### Example 1\n",
    "Input:\n",
    "```\n",
    "100 30\n",
    "```\n",
    "Output:\n",
    "```\n",
    "200\n",
    "```\n",
    "\n",
    "### Example 2\n",
    "Input:\n",
    "```\n",
    "100 10\n",
    "```\n",
    "Output:\n",
    "```\n",
    "133\n",
    "```"
   ]
  },
  {
   "cell_type": "code",
   "execution_count": 1,
   "id": "documented-indicator",
   "metadata": {},
   "outputs": [
    {
     "name": "stdout",
     "output_type": "stream",
     "text": [
      "100 10\n",
      "133\n"
     ]
    }
   ],
   "source": [
    "import math\n",
    "\n",
    "# take user's input\n",
    "user_input = input()\n",
    "\n",
    "# weight as w, number of repetitions as r\n",
    "w, r = user_input.split() \n",
    "\n",
    "# convert variables into int\n",
    "w = int(w)\n",
    "r = int(r)\n",
    "\n",
    "# validate the input range\n",
    "if (w >=1 and w<= 1000000) and (r>=1 and r<=100):\n",
    "\trm = math.trunc(w * (1 + (r/30))) # discarding the decimal part\n",
    "\tprint (rm)\n",
    "else:\n",
    "\tprint(\"Wrong input\")\n",
    "\n",
    "\n"
   ]
  },
  {
   "cell_type": "markdown",
   "id": "traditional-china",
   "metadata": {},
   "source": []
  }
 ],
 "metadata": {
  "kernelspec": {
   "display_name": "Python 3",
   "language": "python",
   "name": "python3"
  },
  "language_info": {
   "codemirror_mode": {
    "name": "ipython",
    "version": 3
   },
   "file_extension": ".py",
   "mimetype": "text/x-python",
   "name": "python",
   "nbconvert_exporter": "python",
   "pygments_lexer": "ipython3",
   "version": "3.8.5"
  }
 },
 "nbformat": 4,
 "nbformat_minor": 5
}
