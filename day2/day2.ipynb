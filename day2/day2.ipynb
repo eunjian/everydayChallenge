{
 "cells": [
  {
   "cell_type": "markdown",
   "id": "particular-married",
   "metadata": {},
   "source": [
    "## Problem\n",
    "\n",
    "The player serves as the project manager (PM) and the sole developer of the Cloud Project. To successfully complete the Cloud Project, $N$ feature developments are necessary. Each feature is numbered from 1 to $N$, and it takes $c_i$ minutes to develop the feature with the number i.\n",
    "\n",
    "To meet the project's deadline, the player initiates work during the night shift. The player starts working at $T$ hours and $M$ minutes. The player sequentially progresses through the development of features from 1 to $N$. As soon as the development of one feature is completed, the development of the next feature begins. Determine the time at which the player completes the development of all features.\n",
    "\n",
    "\n",
    "**Input:**\n",
    "\n",
    "The first line contains the number of required features, $N$.\n",
    "The second line contains two integers separated by a space, $T$ and $M$, representing the current time in hours and minutes.\n",
    "The following N lines each contain an integer  $c_i$, denoting the time required for the feature with number i's development.\n",
    "\n",
    "Constraints:\n",
    "- $1 \\leq N \\leq 100$\n",
    "- $0 \\leq T \\leq 23$\n",
    "- $0 \\leq M \\leq 59$\n",
    "- $0 \\leq c_i \\leq 1000$\n",
    "\n",
    "**Output:**\n",
    "\n",
    "Print the completion time of the Cloud Project in hours and minutes, separated by a space. The time 23 hours 59 minutes plus 1 minute will be 0 hours 0 minutes.\n",
    "\n",
    "### Example 1:\n",
    "\n",
    "Input:\n",
    "```\n",
    "3\n",
    "10 10\n",
    "50\n",
    "22\n",
    "23\n",
    "```\n",
    "\n",
    "Output:\n",
    "```\n",
    "11 45\n",
    "```\n",
    "\n",
    "### Example2:\n",
    "\n",
    "Input:\n",
    "```\n",
    "4\n",
    "23 40\n",
    "1000\n",
    "1000\n",
    "880\n",
    "20\n",
    "```\n",
    "\n",
    "Output:\n",
    "```\n",
    "0 0\n",
    "```"
   ]
  },
  {
   "cell_type": "code",
   "execution_count": 1,
   "id": "driven-neighborhood",
   "metadata": {},
   "outputs": [
    {
     "name": "stdout",
     "output_type": "stream",
     "text": [
      "4\n",
      "23 40\n",
      "1000\n",
      "1000\n",
      "880\n",
      "20\n",
      "0 0\n"
     ]
    }
   ],
   "source": [
    "#inputs\n",
    "n = int(input()) #the number of required features\n",
    "t, m = map(int, input().split()) #starting time in hours and minutes\n",
    "c = [int(input()) for _ in range(n)] #development times\n",
    "#total development time would be sum(c) minutes\n",
    "\n",
    "import datetime\n",
    "d_today = datetime.date.today() #current date\n",
    "#convert the start time into datetime format\n",
    "start_time = datetime.datetime(d_today.year, d_today.month, d_today.day, hour=t, minute=m)\n",
    "#calculate the finish time\n",
    "finish_time = start_time + datetime.timedelta(minutes=sum(c)) \n",
    "#Extract the hour and minute of the completion time and and convert them into integers\"\n",
    "f_hour, f_min = map(int, finish_time.strftime('%H %M').split()) \n",
    "\n",
    "#print the completion time\n",
    "print(f_hour, f_min) "
   ]
  },
  {
   "cell_type": "code",
   "execution_count": null,
   "id": "official-locking",
   "metadata": {},
   "outputs": [],
   "source": []
  }
 ],
 "metadata": {
  "kernelspec": {
   "display_name": "Python 3",
   "language": "python",
   "name": "python3"
  },
  "language_info": {
   "codemirror_mode": {
    "name": "ipython",
    "version": 3
   },
   "file_extension": ".py",
   "mimetype": "text/x-python",
   "name": "python",
   "nbconvert_exporter": "python",
   "pygments_lexer": "ipython3",
   "version": "3.8.5"
  }
 },
 "nbformat": 4,
 "nbformat_minor": 5
}
